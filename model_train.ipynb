{
 "cells": [
  {
   "cell_type": "code",
   "execution_count": 1,
   "id": "4ca8f6cc",
   "metadata": {},
   "outputs": [
    {
     "name": "stdout",
     "output_type": "stream",
     "text": [
      "\n",
      "Linear Regression Model Performance:\n",
      "➤ Train R² Score: 1.0000\n",
      "➤ Test  R² Score: 1.0000\n",
      "\n",
      "Saved: linear_regression_model.pkl and scaler.pkl\n",
      "\n",
      "Dummy Prediction Example:\n",
      "Predicted Total Electricity Usage: 1815.00 watts\n"
     ]
    }
   ],
   "source": [
    "# Step 0: Import Libraries\n",
    "import pandas as pd\n",
    "import joblib\n",
    "from sklearn.model_selection import train_test_split\n",
    "from sklearn.preprocessing import StandardScaler\n",
    "from sklearn.linear_model import LinearRegression\n",
    "from sklearn.metrics import r2_score\n",
    "import warnings\n",
    "warnings.filterwarnings('ignore')\n",
    "\n",
    "# Step 1: Load Dataset from CSV\n",
    "df = pd.read_csv(\"Electricity_Usage_by_Month.csv\")  # Use the CSV file\n",
    "\n",
    "# Step 2: Define Features and Target\n",
    "months = ['Jan', 'Feb', 'March', 'April', 'May', 'June',\n",
    "          'July', 'Aug', 'Sep', 'Oct', 'Nov', 'Dec']\n",
    "df['Total_Usage'] = df[months].sum(axis=1)\n",
    "\n",
    "X = df[months]\n",
    "y = df['Total_Usage']\n",
    "\n",
    "# Step 3: Train-Test Split\n",
    "X_train, X_test, y_train, y_test = train_test_split(X, y, test_size=0.2, random_state=42)\n",
    "\n",
    "# Step 4: Feature Scaling\n",
    "scaler = StandardScaler()\n",
    "X_train_scaled = scaler.fit_transform(X_train)\n",
    "X_test_scaled = scaler.transform(X_test)\n",
    "\n",
    "# Step 5: Train Linear Regression Model\n",
    "model = LinearRegression()\n",
    "model.fit(X_train_scaled, y_train)\n",
    "\n",
    "# Step 6: Evaluate the Model\n",
    "y_train_pred = model.predict(X_train_scaled)\n",
    "y_test_pred = model.predict(X_test_scaled)\n",
    "\n",
    "train_r2 = r2_score(y_train, y_train_pred)\n",
    "test_r2 = r2_score(y_test, y_test_pred)\n",
    "\n",
    "# Step 7: Display Results\n",
    "print(\"\\nLinear Regression Model Performance:\")\n",
    "print(f\"➤ Train R² Score: {train_r2:.4f}\")\n",
    "print(f\"➤ Test  R² Score: {test_r2:.4f}\")\n",
    "\n",
    "# Step 8: Save Model and Scaler\n",
    "joblib.dump(model, \"linear_regression_model.pkl\")\n",
    "joblib.dump(scaler, \"scaler.pkl\")\n",
    "print(\"\\nSaved: linear_regression_model.pkl and scaler.pkl\")\n",
    "\n",
    "# Step 9: Dummy Prediction\n",
    "print(\"\\nDummy Prediction Example:\")\n",
    "\n",
    "# Load the model and scaler\n",
    "model = joblib.load(\"linear_regression_model.pkl\")\n",
    "scaler = joblib.load(\"scaler.pkl\")\n",
    "\n",
    "# Input: [Jan, Feb, ..., Dec]\n",
    "sample_input = [[110, 115, 130, 200, 220, 230, 160, 150, 140, 130, 120, 110]]\n",
    "\n",
    "# Scale and Predict\n",
    "sample_input_scaled = scaler.transform(sample_input)\n",
    "predicted_total_usage = model.predict(sample_input_scaled)\n",
    "\n",
    "print(f\"Predicted Total Electricity Usage: {predicted_total_usage[0]:.2f} watts\")\n"
   ]
  }
 ],
 "metadata": {
  "kernelspec": {
   "display_name": "base",
   "language": "python",
   "name": "python3"
  },
  "language_info": {
   "codemirror_mode": {
    "name": "ipython",
    "version": 3
   },
   "file_extension": ".py",
   "mimetype": "text/x-python",
   "name": "python",
   "nbconvert_exporter": "python",
   "pygments_lexer": "ipython3",
   "version": "3.12.7"
  }
 },
 "nbformat": 4,
 "nbformat_minor": 5
}
